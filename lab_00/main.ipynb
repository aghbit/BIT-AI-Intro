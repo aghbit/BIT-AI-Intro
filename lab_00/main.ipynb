{
 "cells": [
  {
   "cell_type": "markdown",
   "metadata": {},
   "source": [
    "# Lab 00 - Wprowadzenie do AI\n",
    "\n",
    "Celem tego notebook'a jest przejście przez podstawowe technologie wykorzystywane w uczeniu maszynowym. Wszystko można wykonać u siebie lokalnie instalując biblioteki z pliku `requirements.txt`, natomiast można wszystko również wykonać przy wykorzystaniu Google Colab\n",
    "\n",
    "[![Otwórz w Google Colab](https://colab.research.google.com/assets/colab-badge.svg)](https://colab.research.google.com/github/aghbit/BIT-AI-Intro/blob/main/lab_00/main.ipynb)\n"
   ]
  },
  {
   "cell_type": "code",
   "execution_count": null,
   "metadata": {},
   "outputs": [],
   "source": [
    "import pandas as pd\n",
    "import numpy as np\n",
    "from sklearn.datasets import load_iris, load_wine\n",
    "from sklearn.neighbors import KNeighborsClassifier, KNeighborsRegressor\n",
    "from sklearn.ensemble import RandomForestClassifier, RandomForestRegressor\n",
    "from sklearn.model_selection import train_test_split\n",
    "from sklearn.metrics import accuracy_score, mean_absolute_error\n",
    "from sklearn.model_selection import cross_val_score\n",
    "from itertools import product\n",
    "from tqdm import tqdm\n",
    "from pathlib import Path\n",
    "import matplotlib.pyplot as plt\n",
    "import seaborn as sns\n",
    "\n",
    "np.random.seed(0)"
   ]
  },
  {
   "cell_type": "markdown",
   "metadata": {},
   "source": [
    "Użyjemy tutaj następujących bibliotek:\n",
    "- **pandas** - do wczytywania i przetwarzania danych\n",
    "- **scikit learn** - do uczenia maszynowego i pobrania gotowych zbiorów danych\n",
    "- **matplotlib.pyplot** - do rysowania wykresów"
   ]
  },
  {
   "cell_type": "markdown",
   "metadata": {},
   "source": [
    "---\n",
    "## Założenia"
   ]
  },
  {
   "cell_type": "markdown",
   "metadata": {},
   "source": [
    "Na samym początku, będziemy starali się trzymać dosyć odważnego założenia*. Model to czarna skrzynka, do której możemy wrzucić dane i w jakiś sposób ocenić ich jakość. Jeżeli będziemy mieli więcej czasu, to postaramy się dojść do tego, co się dzieje w środku tej czarnej skrzynki, natomiast to nie jest coś od czego chcemy zacząć.\n",
    "\n",
    "\n",
    "<small><small><small>*Założenie jest to prawdziwe dla zasadniczo każdego, kto nie pracuje naukowo w tej dziedzinie. Reszta osób przez lata doświadczenia ma jakieś pojęcie jak te rzeczy robić (choć też nie zawsze XD), natomiast zwykle to się sprowadza to wykorzystania optymalizacji hiperparametrów dla standardowych modeli oraz doboru metryki pasującej pod cele firmy ;-;</small></small></small>"
   ]
  },
  {
   "cell_type": "markdown",
   "metadata": {},
   "source": [
    "---\n",
    "## Pandas"
   ]
  },
  {
   "cell_type": "markdown",
   "metadata": {},
   "source": [
    "**Ładowanie zbioru danych**\n",
    "\n",
    "Na początku potrzebujemy jakiegoś zbioru danych. W tym celu wykorzystamy bibliotekę `pandas`, która oferuje bardzo dużo możliwości manipulowania danymi przedstawionych jako tabele. Na rozgrzewkę zaczniemy zabawę z danymi z katastrofy Titanica. Pierwsze co zrobimy, to załadujemy zbiór danych i sprawdzimy 10 pierwszych wierszy."
   ]
  },
  {
   "cell_type": "code",
   "execution_count": null,
   "metadata": {},
   "outputs": [],
   "source": [
    "orig_titanic = pd.read_csv('data/titanic.csv')\n",
    "orig_titanic.head(n=10)"
   ]
  },
  {
   "cell_type": "markdown",
   "metadata": {},
   "source": [
    "**Informacje o zbiorze danych**\n",
    "\n",
    "Pandas udostępnia nam również metodę `info()`, która wyświetli nam informacje o zbiorze danych"
   ]
  },
  {
   "cell_type": "code",
   "execution_count": null,
   "metadata": {},
   "outputs": [],
   "source": [
    "orig_titanic.info()"
   ]
  },
  {
   "cell_type": "markdown",
   "metadata": {},
   "source": [
    "**Więcej informacji**\n",
    "\n",
    "Jeżeli chcemy uzyskać więcej informacji o zbiorze danych, możemy użyć metody `describe()`, która wyświetli nam statystyki dla każdej kolumny. **Zapamiętaj jaka jest średnia wartość w kolumnie `Survived`!**"
   ]
  },
  {
   "cell_type": "code",
   "execution_count": null,
   "metadata": {},
   "outputs": [],
   "source": [
    "orig_titanic.describe()"
   ]
  },
  {
   "cell_type": "markdown",
   "metadata": {},
   "source": [
    "**Obserwacje**\n",
    "Możemy zauważyć, że mamy do czynienia z 11 kolumnami. Zanim zaczniemy cokolwiek robić, warto sprawdzić co one oznaczają. Zwykle takie informacje można znaleźć w jakimś opisie zbioru danych. W naszym przypadku mamy:\n",
    "- `PassengerId` - Unikalny identyfikator pasażera. Nie jest to informacja istotna.\n",
    "- `Survived` - Czy pasażer przeżył (1) czy zginął (0). Postaramy się później przewidywać tę wartość.\n",
    "- `Pclass` - Klasa pasażera (1, 2, 3). Intuicyjnie możemy się domyślić, że w którejś klasie byli pasażerowie bogatsi, a w którejś biedniejsi. Co więcej, jeżeli zastanowimy się nad tym, to ci biedniejsi mieli pokoje na niższych pokładach, a że grawitacja jest faktem, to woda mogła się tam dostac szybciej.\n",
    "- `Name` - Imię i nazwisko pasażera. Czy to jest rzeczywiście wartościowe?\n",
    "- `Sex` - Płeć pasażera. Patrząc, że istnieje pewna stara zasada (`Najpierw kobiety i dzieci`), to wydaje się być to wartościową informacją.\n",
    "- `Age` - Wiek pasażera. Podobnie jak w przypadku płci, może być to wartościowa informacja.\n",
    "- `SibSp` - Liczba rodzeństwa/małżonków pasażera na pokładzie. Ciężko powiedzieć coś na ten temat, bez analizowania danych.\n",
    "- `Parch` - Liczba rodziców/dzieci pasażera na pokładzie. Podobnie jak w przypadku `SibSp`, ciężko powiedzieć coś na ten temat, bez analizowania danych.\n",
    "- `Ticket` - Numer biletu pasażera. Może być ciężko coś z tego wyciągnąć.\n",
    "- `Fare` - Cena biletu pasażera. Prawdopodobnie im droższy bilet, tym lepsza klasa, a co za tym idzie, większe prawdopodobieństwo przeżycia.\n",
    "- `Cabin` - Numer kabiny pasażera. Może być ciężko coś z tego wyciągnąć.\n",
    "- `Embarked` - Port, z którego pasażer wyruszył. Tutaj również ciężko powiedzieć coś na ten temat bez analizy danych."
   ]
  },
  {
   "cell_type": "markdown",
   "metadata": {},
   "source": [
    "### Zadanie 1\n",
    "\n",
    "Mamy do czynienia z kilkoma kolumnami, które nie są liczbami. Modele zasadniczo nie potrafią pracować z tekstem, więc musimy coś z tym zrobić. Na samym początku po prostu pozbędziemy się tych kolumn. W naszym przypadku będą to kolumny `Name`, `Sex`, `Ticket`, `Cabin` oraz `Embarked`. Dodatkowo wiemy, że kolumna `PassengerId` również nie jest istotna, więc również się jej pozbędziemy. W tym celu możemy użyć metody `drop()`, której dokumentację znajdziecie tutaj: [link](https://pandas.pydata.org/pandas-docs/stable/reference/api/pandas.DataFrame.drop.html). \n",
    "\n",
    "**Ważne jest, żeby nie modyfikować oryginalnego zbioru danych!**"
   ]
  },
  {
   "cell_type": "code",
   "execution_count": null,
   "metadata": {},
   "outputs": [],
   "source": [
    "### ### ### ### ### Twój kod ### ### ### ### ###\n",
    "dropped_titanic = ...\n",
    "### ### ### ### ### ### ### ### ### ### ### ###\n",
    "\n",
    "LHS = set(dropped_titanic.columns.tolist())\n",
    "RHS = set(['Survived', 'Pclass', 'Age', 'SibSp', 'Parch', 'Fare'])\n",
    "assert LHS == RHS, f\"Expected {RHS}, but got {LHS}\"\n",
    "print(\"OK!\")"
   ]
  },
  {
   "cell_type": "markdown",
   "metadata": {},
   "source": [
    "**Ponownie sprawdzamy zbiór danych**"
   ]
  },
  {
   "cell_type": "code",
   "execution_count": null,
   "metadata": {},
   "outputs": [],
   "source": [
    "dropped_titanic.info()"
   ]
  },
  {
   "cell_type": "markdown",
   "metadata": {},
   "source": [
    "### Zadanie 2\n",
    "Teraz możemy zauważyć, że mamy kolumny `Age` oraz `Fare`, które mają wartości `NaN`. Z zasady staramy się unikać takich wartości, więc musimy coś z tym zrobić. Tym razem nie będziemy się ich pozbywać, zastąpimy je średnią wartością w danej kolumnie ([link](https://pandas.pydata.org/docs/reference/api/pandas.DataFrame.mean.html)). Możemy to zrobić, dzięki temu, że mamy same liczby. W tym celu możemy użyć metody `fillna()`, której dokumentację znajdziecie tutaj: [link](https://pandas.pydata.org/pandas-docs/stable/reference/api/pandas.DataFrame.fillna.html)."
   ]
  },
  {
   "cell_type": "code",
   "execution_count": null,
   "metadata": {},
   "outputs": [],
   "source": [
    "### ### ### ### ### Twój kod ### ### ### ### ###\n",
    "means = ...\n",
    "### ### ### ### ### ### ### ### ### ### ### ###\n",
    "\n",
    "assert np.abs(means['Survived'] - 0.3636) < 1e-3, f\"Survived: {means['Survived']}, expected ~0.3636\"\n",
    "assert np.abs(means['Pclass'] - 2.2655) < 1e-3, f\"Pclass: {means['Pclass']}, expected ~2.2655\"\n",
    "assert np.abs(means['Age'] - 30.2726) < 1e-3, f\"Age: {means['Age']}, expected ~30.2726\"\n",
    "assert np.abs(means['SibSp'] - 0.4473) < 1e-3, f\"SibSp: {means['SibSp']}, expected ~0.4473\"\n",
    "assert np.abs(means['Parch'] - 0.3923) < 1e-3, f\"Parch: {means['Parch']}, expected ~0.3923\"\n",
    "assert np.abs(means['Fare'] - 35.6271) < 1e-3, f\"Fare: {means['Fare']}, expected ~35.6271\"\n",
    "print(\"Means OK!\")\n",
    "\n",
    "### ### ### ### ### Twój kod ### ### ### ### ###\n",
    "clean_titanic = ...\n",
    "### ### ### ### ### ### ### ### ### ### ### ###\n",
    "\n",
    "assert np.abs(clean_titanic.isnull().sum().sum()) < 1e-6, \"NaN values still exist\"\n",
    "print(\"Cleaned OK!\")"
   ]
  },
  {
   "cell_type": "markdown",
   "metadata": {},
   "source": [
    "### Zadanie 3\n",
    "\n",
    "Mamy teraz pełny zbiór danych, który możemy wykorzystać do trenowania modelu. Więc zasadniczo to teraz zrobimy. Natomiast testowanie modelu na którym go trenowaliśmy brzmi jak łatwe zadanie. Dlatego też lepszym podejściem jest podzielenie zbioru danych na dwie części. Jedną część wykorzystamy do trenowania modelu, a drugą do testowania. W tym celu możemy użyć metody `train_test_split()`, której dokumentację znajdziecie tutaj: [link](https://scikit-learn.org/stable/modules/generated/sklearn.model_selection.train_test_split.html). Podzielimy zbiór danych w proporcji `train=60; test=40`. Ustawmy również `random_state=70`, żeby mieć pewność, że podział będzie zawsze taki sam."
   ]
  },
  {
   "cell_type": "code",
   "execution_count": null,
   "metadata": {},
   "outputs": [],
   "source": [
    "### ### ### ### ### Twój kod ### ### ### ### ###\n",
    "train, test = ...\n",
    "### ### ### ### ### ### ### ### ### ### ### ###\n",
    "\n",
    "assert train.shape[0] == 250, f\"Train shape should be 250, but got {train.shape[0]}\"\n",
    "assert test.shape[0] == 168, f\"Test shape should be 168, but got {test.shape[0]}\"\n",
    "print(\"OK!\")"
   ]
  },
  {
   "cell_type": "markdown",
   "metadata": {},
   "source": [
    "### Zadanie 4\n",
    "\n",
    "Zanim przjedziemy do trenowania modelu, musimy jeszcze wiedzieć co model ma przewidywać. Nie ma sensu, żeby uczyć model na danych, w który jest wprost podany wynik. Dlatego też musimy oddzielić kolumnę `Survived` od reszty zbioru danych. Tutaj znowu chcemy się posłużyć metodą `drop()`.\n",
    "\n",
    "Przyjęło się, że wartości które przewidujemy są w zmiennej `y`, a reszta zbioru danych jest w zmiennej `X`."
   ]
  },
  {
   "cell_type": "code",
   "execution_count": null,
   "metadata": {},
   "outputs": [],
   "source": [
    "### ### ### ### ### Twój kod ### ### ### ### ###\n",
    "train_X = ...\n",
    "train_y = ...\n",
    "\n",
    "test_X = ...\n",
    "test_y = ...\n",
    "### ### ### ### ### ### ### ### ### ### ### ###\n",
    "\n",
    "assert train_X.shape[0] == 250, f\"Train_X shape should be 250, but got {train_X.shape[0]}\"\n",
    "assert train_X.shape[1] == 5, f\"Train_X shape should be 5, but got {train_X.shape[1]}\"\n",
    "assert train_y.shape[0] == 250, f\"Train_y shape should be 250, but got {train_y.shape[0]}\"\n",
    "assert len(train_y.shape) == 1, f\"Train_y shape should be 1D, but got {train_y.shape}\"\n",
    "\n",
    "assert test_X.shape[0] == 168, f\"Test_X shape should be 168, but got {test_X.shape[0]}\"\n",
    "assert test_X.shape[1] == 5, f\"Test_X shape should be 5, but got {test_X.shape[1]}\"\n",
    "assert test_y.shape[0] == 168, f\"Test_y shape should be 168, but got {test_y.shape[0]}\"\n",
    "assert len(test_y.shape) == 1, f\"Test_y shape should be 1D, but got {test_y.shape}\""
   ]
  },
  {
   "cell_type": "markdown",
   "metadata": {},
   "source": [
    "---\n",
    "## Sklearn"
   ]
  },
  {
   "cell_type": "markdown",
   "metadata": {},
   "source": [
    "**Prosty model**\n",
    "\n",
    "Potrzebujemy jakiegoś sposobu, na stworzenie jakiegoś modelu. W tym celu wykorzystamy bibliotekę `sklearn`, która głównie oferuje nam gotowe modele oraz metody do ich trenowania."
   ]
  },
  {
   "cell_type": "markdown",
   "metadata": {},
   "source": [
    "### Zadanie 5\n",
    "\n",
    "Teraz przejdziemy do trenowania modelu. W tym celu wykorzystamy model `RandomForestClassifier`, którego dokumentację znajdziecie tutaj: [link](https://scikit-learn.org/stable/modules/generated/sklearn.ensemble.RandomForestClassifier.html).\n",
    "\n",
    "Aktualnie interesują nas 3 etapy, które będziemy musieli wykonać:\n",
    "- Utworzenie modelu\n",
    "- Trenowanie modelu\n",
    "- Zwracanie predykcji"
   ]
  },
  {
   "cell_type": "code",
   "execution_count": null,
   "metadata": {},
   "outputs": [],
   "source": [
    "### ### ### ### ### Twój kod ### ### ### ### ###\n",
    "### Tworzymy model ###\n",
    "model = ...\n",
    "\n",
    "### Trenujemy model ###\n",
    "...\n",
    "\n",
    "### Predykcja na zbiorze testowym ###\n",
    "pred = ...\n",
    "raise NotImplementedError(\"You need to implement the prediction step\")\n",
    "### ### ### ### ### ### ### ### ### ### ### ###\n",
    "\n",
    "assert type(model) == RandomForestClassifier, f\"Model should be RandomForestClassifier, but got {type(model)}\"\n",
    "assert len(pred) == 168, f\"Pred shape should be 84, but got {len(pred)}\""
   ]
  },
  {
   "cell_type": "markdown",
   "metadata": {},
   "source": [
    "### Zadanie 6\n",
    "\n",
    "I dochodzimy do ostatniego etapu, czyli oceny modelu. W tym celu wykorzystamy metrykę `accuracy_score`, której dokumentację znajdziecie tutaj: [link](https://scikit-learn.org/stable/modules/generated/sklearn.metrics.accuracy_score.html). Metryka ta zwraca nam wartość od 0 do 1, gdzie 1 oznacza, że model przewidział wszystko dobrze, a 0, że przewidział wszystko źle."
   ]
  },
  {
   "cell_type": "code",
   "execution_count": null,
   "metadata": {},
   "outputs": [],
   "source": [
    "### ### ### ### ### Twój kod ### ### ### ### ###\n",
    "acc = ...\n",
    "raise NotImplementedError(\"Calculate accuracy using accuracy_score\")\n",
    "### ### ### ### ### ### ### ### ### ### ### ###\n",
    "\n",
    "print(f\"Accuracy: {100 * acc:.2f}%\")"
   ]
  },
  {
   "cell_type": "markdown",
   "metadata": {},
   "source": [
    "**Czy to dobry wynik?**\n",
    "\n",
    "To zależy. Na potrzeby tego ćwiczenia, zrobimy dwa nowe modele, które będą przewidywały, że wszyscy przeżyli oraz że wszyscy zginęli. Jeżeli nasz model będzie lepszy od tych dwóch, to znaczy, że nie jest źle."
   ]
  },
  {
   "cell_type": "code",
   "execution_count": null,
   "metadata": {},
   "outputs": [],
   "source": [
    "def all_ok(test_input: pd.DataFrame):\n",
    "    return np.ones(test_input.shape[0], dtype=bool)\n",
    "\n",
    "def all_not_ok(test_input: pd.DataFrame):\n",
    "    return np.zeros(test_input.shape[0], dtype=bool)\n",
    "\n",
    "pred_ok = all_ok(test_X)\n",
    "pred_not_ok = all_not_ok(test_X)\n",
    "\n",
    "acc_ok = accuracy_score(test_y, pred_ok)\n",
    "acc_not_ok = accuracy_score(test_y, pred_not_ok)\n",
    "\n",
    "print(f\"Accuracy (all OK): {100 * acc_ok:.2f}%\")\n",
    "print(f\"Accuracy (all NOT OK): {100 * acc_not_ok:.2f}%\")"
   ]
  },
  {
   "cell_type": "markdown",
   "metadata": {},
   "source": [
    "**Porażka (?)**\n",
    "\n",
    "Dobrze nie jest. Model który za każdym razem zwraca informację, że ktoś umarł ma podobny wynik do tego mądergo modelu, nad którym tyle pracowaliśmy. Natomiast to również zależy od tego, w jaki sposób podzieliliśmy zbiór danych. Zauważmy, że w oryginalnym zbiorze mamy ok. 36% osób, które przeżyły. Model który zwraca za każdym razem że osoba przeżyła, ma wynik prawie 40%."
   ]
  },
  {
   "cell_type": "markdown",
   "metadata": {},
   "source": [
    "### Zadanie 7\n",
    "\n",
    "Zrobimy funkcję, która wykona cały proces z zadań od 3 do 6 włącznie. Funkcja powinna za argument przyjmować zbiór danych oraz `random_state`. Funkcja powinna zwracać dokładność modelu. Reszty parametrów nie zmieniamy."
   ]
  },
  {
   "cell_type": "code",
   "execution_count": null,
   "metadata": {},
   "outputs": [],
   "source": [
    "### ### ### ### ### Twój kod ### ### ### ### ###\n",
    "def run_pipeline(dataframe: pd.DataFrame, random_state: int = 0, test_size=0.4) -> float:\n",
    "    raise NotImplementedError(\"You need to implement this function\")\n",
    "### ### ### ### ### ### ### ### ### ### ### ###"
   ]
  },
  {
   "cell_type": "markdown",
   "metadata": {},
   "source": [
    "**I czas sprawdzić, czy rzeczywiście nasz model jest gorszy od modelu, który przewiduje, że wszyscy przeżyli oraz że wszyscy zginęli!**"
   ]
  },
  {
   "cell_type": "code",
   "execution_count": null,
   "metadata": {},
   "outputs": [],
   "source": [
    "results = [run_pipeline(clean_titanic, random_state=i) for i in tqdm(range(200))]\n",
    "avg_acc = np.mean(results)\n",
    "std_acc = np.std(results)\n",
    "print(f\"Min accuracy: {100 * np.min(results):.2f}%\")\n",
    "print(f\"Avg accuracy: {100 * avg_acc:.2f}%\")\n",
    "print(f\"Max accuracy: {100 * np.max(results):.2f}%\\n\")\n",
    "print(f\"25th percentile accuracy: {100 * np.percentile(results, 25):.2f}%\")\n",
    "print(f\"Median accuracy: {100 * np.median(results):.2f}%\")\n",
    "print(f\"75th percentile accuracy: {100 * np.percentile(results, 75):.2f}%\")"
   ]
  },
  {
   "cell_type": "markdown",
   "metadata": {},
   "source": [
    "**Wnioski**\n",
    "\n",
    "Wcale dużo gorzej nie jest, jak to się wydawało na pierwszy rzut oka. Zarówno mediana jak i średnia są w okolicach 63%, czyli mniej więcej tyle ile można by się spodziewać patrząc na model zwracający za każdym razem, że ktoś umarł (co zdarzało się częściej)."
   ]
  },
  {
   "cell_type": "markdown",
   "metadata": {},
   "source": [
    "### Zadanie 8\n",
    "\n",
    "Wróćmy na sam początek, kiedy dokonaliśmy obserwacji, że kolumna `Sex` może być wartościowa, ale pozbyliśmy się jej. Kiedy przyjrzymy się naszym danym bardziej, to zobaczymy, że kolumna `Sex` ma wartości `female` oraz `male`. Skoro komputer nie potrafi pracować z tekstem, to możemy przypisać tym wartością liczby. W tym przypadku możemy przypisać `female` do 1, a `male` do 0. Możemy to zrobić przy pomocy metody `replace()`, której dokumentację znajdziecie tutaj: [link](https://pandas.pydata.org/pandas-docs/stable/reference/api/pandas.DataFrame.replace.html). Możemy również użyć metody `get_dummies()`, która zamieni nam kolumnę na dwie kolumny, które będą miały wartości 0 lub 1. Dokumentacja: [link](https://pandas.pydata.org/pandas-docs/stable/reference/api/pandas.get_dummies.html)."
   ]
  },
  {
   "cell_type": "code",
   "execution_count": null,
   "metadata": {},
   "outputs": [],
   "source": [
    "dropped_titanic = orig_titanic.drop(columns=['Name', 'Ticket', 'Cabin', 'Embarked', 'PassengerId'])\n",
    "### ### ### ### ### Twój kod ### ### ### ### ###\n",
    "titanic_replace = dropped_titanic.copy()\n",
    "raise NotImplementedError(\"Replace not implemented\")\n",
    "### ### ### ### ### ### ### ### ### ### ### ###\n",
    "\n",
    "### ### ### ### ### Twój kod ### ### ### ### ###\n",
    "titanic_dummies = dropped_titanic.copy()\n",
    "raise NotImplementedError(\"Dummies not implemented\")\n",
    "### ### ### ### ### ### ### ### ### ### ### ###"
   ]
  },
  {
   "cell_type": "code",
   "execution_count": null,
   "metadata": {},
   "outputs": [],
   "source": [
    "titanic_replace.head(n=10)"
   ]
  },
  {
   "cell_type": "code",
   "execution_count": null,
   "metadata": {},
   "outputs": [],
   "source": [
    "titanic_dummies.head(n=10)"
   ]
  },
  {
   "cell_type": "markdown",
   "metadata": {},
   "source": [
    "Zasadniczo bardziej uzasadnione jest stosowanie `get_dummies`, więc skupimy się na tym zbiorze."
   ]
  },
  {
   "cell_type": "markdown",
   "metadata": {},
   "source": [
    "### Zadanie 9\n",
    "\n",
    "Ponownie wytrenujemy model, tym razem na danych zawierających informację o płci."
   ]
  },
  {
   "cell_type": "code",
   "execution_count": null,
   "metadata": {},
   "outputs": [],
   "source": [
    "### ### ### ### ### Twój kod ### ### ### ### ###\n",
    "\n",
    "### ### ### ### ### ### ### ### ### ### ### ###"
   ]
  },
  {
   "cell_type": "markdown",
   "metadata": {},
   "source": [
    "---\n",
    "## Dyskusja\n",
    "---"
   ]
  },
  {
   "cell_type": "markdown",
   "metadata": {},
   "source": [
    "**Ćwiczenia związane z biblioteką `pandas`**\n",
    "- [Kaggle](https://www.kaggle.com/learn/pandas)"
   ]
  },
  {
   "cell_type": "markdown",
   "metadata": {},
   "source": [
    "---\n",
    "## Tworzenie wykresów"
   ]
  },
  {
   "cell_type": "markdown",
   "metadata": {},
   "source": [
    "Często chcielibyśmy popatrzeć na nasze dane, ponieważ to może nam pomóc w ich zrozumieniu. W tym celu wykorzystamy bibliotekę `matplotlib` oraz `seaborn`, które służą do tworzenia wykresów."
   ]
  },
  {
   "cell_type": "markdown",
   "metadata": {},
   "source": [
    "### Przykład\n",
    "Wrócimy do naszego oryginalnego zbioru danych, żeby zobaczyć jak wygląda rozkład wieku pasażerów. W tym celu wykorzystamy wykres `histogram`, który pokazuje nam rozkład wartości w danej kolumnie. Dokumentacja: [link](https://matplotlib.org/stable/api/_as_gen/matplotlib.pyplot.hist.html)."
   ]
  },
  {
   "cell_type": "code",
   "execution_count": null,
   "metadata": {},
   "outputs": [],
   "source": [
    "x = orig_titanic['Age'].dropna()\n",
    "\n",
    "# Inicjalizujemy wykres\n",
    "plt.figure(figsize=(10, 6))\n",
    "\n",
    "# Tworzymy histogram, ustawiając liczbę kubełków na 30, kolor na niebieski i przezroczystość na 0.7\n",
    "plt.hist(x, bins=30, color='blue', alpha=0.7)\n",
    "\n",
    "# Ustawiamy tytuł wykresu\n",
    "plt.title('Histogram of Age')\n",
    "\n",
    "# Ustawiamy etykiety osi\n",
    "plt.xlabel('Age')\n",
    "plt.ylabel('Frequency')\n",
    "\n",
    "# Wyświetlamy wykres\n",
    "plt.show()"
   ]
  },
  {
   "cell_type": "markdown",
   "metadata": {},
   "source": [
    "**Komentarz**\n",
    "\n",
    "Zdecydowanie nie jest to najładniejszy wykres, natomiast zdecydowanie mówi nam dużo o rozkładzie wieku pasażerów. Warto zauważyć, że mamy sporo osób, które mają od 20 do 35 lat. "
   ]
  },
  {
   "cell_type": "markdown",
   "metadata": {},
   "source": [
    "### Zadanie 10\n",
    "Istnieje takie coś, jak mapa termiczna (heatmap). Idea za tym jest taka, że jeżeli mamy pewne dwie kolumny, to możemy zobaczyć jak bardzo są one podobne do siebie. W tym celu wykorzystamy wykres `heatmap`. Dokumentacja: [link](https://seaborn.pydata.org/generated/seaborn.heatmap.html)."
   ]
  },
  {
   "cell_type": "code",
   "execution_count": null,
   "metadata": {},
   "outputs": [],
   "source": [
    "### ### ### ### ### Twój kod ### ### ### ### ###\n",
    "\n",
    "### ### ### ### ### ### ### ### ### ### ### ###"
   ]
  },
  {
   "cell_type": "markdown",
   "metadata": {},
   "source": [
    "---\n",
    "## Dyskusja\n",
    "---"
   ]
  },
  {
   "cell_type": "markdown",
   "metadata": {},
   "source": [
    "### Zadanie 11\n",
    "\n",
    "Załadujmy teraz zbiór danych `titanic_2.csv` i zobaczmy jak sprawuje się nasz model z wykorzystaniem dummies."
   ]
  },
  {
   "cell_type": "code",
   "execution_count": null,
   "metadata": {},
   "outputs": [],
   "source": [
    "### ### ### ### ### Twój kod ### ### ### ### ###\n",
    "\n",
    "### ### ### ### ### ### ### ### ### ### ### ###"
   ]
  },
  {
   "cell_type": "markdown",
   "metadata": {},
   "source": [
    "---\n",
    "Ćwiczenia związane z biblioteką `matplotlib` oraz `seaborn`\n",
    "- [Kaggle](https://www.kaggle.com/learn/data-visualization)\n",
    "---"
   ]
  },
  {
   "cell_type": "markdown",
   "metadata": {},
   "source": [
    "## Zadanie domowe\n",
    "Na platformie **Kaggle** jest aktywny konkurs, który jest bardzo podobny do zadania, które wykonaliśmy wcześniej. Celem jest przewidzenie czy pasażer został ewakuowany ze statku kosmicznego Titanic; [link](https://www.kaggle.com/competitions/spaceship-titanic).\n",
    "\n",
    "Z ważniejszych kwestii, które mogą nie być oczywiste na pierwszy rzut oka, to mamy 3 pliki:\n",
    "- `train.csv` - zbiór danych, który powinien nam posłużyć do trenowania modelu\n",
    "- `test.csv` - zbiór danych, który powinien nam posłużyć do testowania modelu\n",
    "- `sample_submission.csv` - przykładowy plik, który powinien być zwrócony na koniec. Wartości w tym pliku są przykładowe i nie mają nic wspólnego z rzeczywistością.\n",
    "\n",
    "Bardzo ważne jest to, żeby zostawić kolumnę `PassengerId`, ponieważ to jest identyfikator pasażera, który powinien być w pliku zwróconym na koniec. Natomiast kolumna `Transported` powinna być naszą przewidywaną wartością.\n",
    "\n",
    "Plik, który należy wysłać na koniec, to plik `submission.csv`. Plik można zapisać przy pomocy metody `to_csv()`, której dokumentację znajdziecie tutaj: [link](https://pandas.pydata.org/pandas-docs/stable/reference/api/pandas.DataFrame.to_csv.html).\n",
    "\n",
    "Wszystko co zrobiliśmy do tej pory powinno być wystarczające, żeby stworzyć model, który będzie przewidywał, czy pasażer został ewakuowany. Czy będzie on dobry? Pewnie nie. Ale nie może być za prosto."
   ]
  }
 ],
 "metadata": {
  "kernelspec": {
   "display_name": "lab_1",
   "language": "python",
   "name": "python3"
  },
  "language_info": {
   "codemirror_mode": {
    "name": "ipython",
    "version": 3
   },
   "file_extension": ".py",
   "mimetype": "text/x-python",
   "name": "python",
   "nbconvert_exporter": "python",
   "pygments_lexer": "ipython3",
   "version": "3.9.21"
  }
 },
 "nbformat": 4,
 "nbformat_minor": 2
}
